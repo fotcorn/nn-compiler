{
 "cells": [
  {
   "cell_type": "code",
   "execution_count": null,
   "metadata": {
    "vscode": {
     "languageId": "plaintext"
    }
   },
   "outputs": [],
   "source": [
    "# Convolution kernel\n",
    "SET_REG_TO_CONSTANT R0, 0\n",
    "\n",
    "LOAD_WTH_OFFSET MEM_A, 0, R1\n",
    "LOAD_WTH_OFFSET MEM_B, 0, R2\n",
    "MUL R1, R2, R3\n",
    "ADD R0, R3, R0\n",
    "\n",
    "LOAD_WTH_OFFSET MEM_A, 1, R1\n",
    "LOAD_WTH_OFFSET MEM_B, 1, R2\n",
    "MUL R1, R2, R3\n",
    "ADD R0, R3, R0\n",
    "\n",
    "...more loop unrolls\n",
    "\n",
    "STORE_WTH_OFFSET MEM_OUT, 0, R0"
   ]
  },
  {
   "cell_type": "code",
   "execution_count": null,
   "metadata": {
    "vscode": {
     "languageId": "plaintext"
    }
   },
   "outputs": [],
   "source": [
    "# Bias kernel\n",
    "LOAD_WTH_OFFSET MEM_A, 0, R0\n",
    "LOAD_WTH_OFFSET MEM_B, 0, R1\n",
    "ADD R0, R1, R2\n",
    "\n",
    "STORE_WTH_OFFSET MEM_OUT, 0, R2"
   ]
  },
  {
   "cell_type": "code",
   "execution_count": null,
   "metadata": {
    "vscode": {
     "languageId": "plaintext"
    }
   },
   "outputs": [],
   "source": [
    "# ReLU kernel\n",
    "SET_REG_TO_CONSTANT R0, 0\n",
    "LOAD_WTH_OFFSET MEM_A, 0, R1\n",
    "MAX R0, R1, R2\n",
    "STORE_WTH_OFFSET MEM_OUT, 0, R2"
   ]
  },
  {
   "cell_type": "code",
   "execution_count": null,
   "metadata": {
    "vscode": {
     "languageId": "plaintext"
    }
   },
   "outputs": [],
   "source": [
    "# Maxpool kernel\n",
    "LOAD_WTH_OFFSET MEM_A, 0, R0\n",
    "LOAD_WTH_OFFSET MEM_A, 1, R1\n",
    "\n",
    "MAX R0, R1, R0\n",
    "\n",
    "LOAD_WTH_OFFSET MEM_A, 2, R1\n",
    "MAX R0, R1, R0\n",
    "\n",
    "LOAD_WTH_OFFSET MEM_A, 3, R1\n",
    "MAX R0, R1, R0\n",
    "\n",
    "...more loop unrolls\n",
    "\n",
    "STORE_WTH_OFFSET MEM_OUT, 0, R0"
   ]
  }
 ],
 "metadata": {
  "language_info": {
   "name": "python"
  }
 },
 "nbformat": 4,
 "nbformat_minor": 2
}
