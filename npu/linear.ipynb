{
 "cells": [
  {
   "cell_type": "code",
   "execution_count": 1,
   "metadata": {},
   "outputs": [],
   "source": [
    "import torch\n",
    "import torch.nn as nn\n",
    "import torch.nn.functional as F\n",
    "\n",
    "\n",
    "class Net(nn.Module):\n",
    "    def __init__(self):\n",
    "        super(Net, self).__init__()\n",
    "        self.fc1 = nn.Linear(784, 128)\n",
    "        self.fc2 = nn.Linear(128, 10)\n",
    "\n",
    "    def forward(self, x):\n",
    "        x = x.view(-1, 784)\n",
    "        x = F.relu(self.fc1(x))\n",
    "        x = self.fc2(x)\n",
    "        return x"
   ]
  },
  {
   "cell_type": "code",
   "execution_count": 8,
   "metadata": {},
   "outputs": [
    {
     "name": "stdout",
     "output_type": "stream",
     "text": [
      "torch.Size([1, 10])\n",
      "FC1 weight shape: torch.Size([128, 784])\n",
      "FC1 bias shape: torch.Size([128])\n",
      "FC2 weight shape: torch.Size([10, 128])\n",
      "FC2 bias shape: torch.Size([10])\n"
     ]
    }
   ],
   "source": [
    "net = Net()\n",
    "\n",
    "sample = torch.randn(1, 784)\n",
    "output = net(sample)\n",
    "print(output.shape)\n",
    "\n",
    "#(1,784) @ (784,128) = (1,128)\n",
    "\n",
    "# Print weight and bias shapes of the network\n",
    "print(\"FC1 weight shape:\", net.fc1.weight.shape)\n",
    "print(\"FC1 bias shape:\", net.fc1.bias.shape)\n",
    "print(\"FC2 weight shape:\", net.fc2.weight.shape)\n",
    "print(\"FC2 bias shape:\", net.fc2.bias.shape)"
   ]
  },
  {
   "cell_type": "code",
   "execution_count": null,
   "metadata": {},
   "outputs": [],
   "source": [
    "#(1, 784) @ (784,128) = (1,128)\n",
    "\n",
    "# Total multiplications: 128 * 784 = 100352\n",
    "# Number of PEs: 8\n",
    "# 128/8 = 16 launches per PE\n",
    "# every PE calculates 16 rows and 784 columns"
   ]
  }
 ],
 "metadata": {
  "kernelspec": {
   "display_name": "venv",
   "language": "python",
   "name": "python3"
  },
  "language_info": {
   "codemirror_mode": {
    "name": "ipython",
    "version": 3
   },
   "file_extension": ".py",
   "mimetype": "text/x-python",
   "name": "python",
   "nbconvert_exporter": "python",
   "pygments_lexer": "ipython3",
   "version": "3.12.3"
  }
 },
 "nbformat": 4,
 "nbformat_minor": 2
}
