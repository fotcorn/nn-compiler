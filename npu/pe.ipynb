{
 "cells": [
  {
   "cell_type": "code",
   "execution_count": 18,
   "metadata": {},
   "outputs": [
    {
     "data": {
      "text/plain": [
       "array([[1.28905072, 1.22718686],\n",
       "       [1.25554484, 2.04809614]])"
      ]
     },
     "execution_count": 18,
     "metadata": {},
     "output_type": "execute_result"
    }
   ],
   "source": [
    "# Convolution (after im2col)\n",
    "import numpy as np\n",
    "import scipy.signal\n",
    "\n",
    "image = np.random.rand(4, 4)\n",
    "kernel = np.random.rand(3, 3)\n",
    "\n",
    "scipy.signal.correlate2d(image, kernel, mode='valid')"
   ]
  },
  {
   "cell_type": "code",
   "execution_count": 19,
   "metadata": {},
   "outputs": [
    {
     "data": {
      "text/plain": [
       "array([[1.28905072, 1.22718686],\n",
       "       [1.25554484, 2.04809614]])"
      ]
     },
     "execution_count": 19,
     "metadata": {},
     "output_type": "execute_result"
    }
   ],
   "source": [
    "from skimage.util import view_as_windows\n",
    "\n",
    "flat_image = view_as_windows(image, (3, 3)).reshape(4, 9)\n",
    "flat_kernel = kernel.reshape(9, 1)\n",
    "\n",
    "(flat_image @ flat_kernel).reshape(2, 2)"
   ]
  },
  {
   "cell_type": "code",
   "execution_count": null,
   "metadata": {},
   "outputs": [],
   "source": [
    "def conv_kernel(memory_a, memory_b, memory_out):\n",
    "    acc = 0\n",
    "    for i in range(9):\n",
    "        acc += memory_a[i] * memory_b[i]\n",
    "    memory_out = acc\n",
    "\n",
    "memcpy(flat_image, MEMORY_LANE_0)\n",
    "memcpy(flat_kernel, MEMORY_LANE_1)\n",
    "\n",
    "launch_kernel(\n",
    "    kernel=conv_kernel,\n",
    "    num_pe=4,\n",
    "    memory_a=MEMORY_LANE_0,\n",
    "    memory_a_config=\"offset\",\n",
    "    memory_a_config_offset=9,\n",
    "    memory_b=MEMORY_LANE_1,\n",
    "    memory_b_config=\"loop\",\n",
    "    memory_b_config_loop_size=9,\n",
    "    memory_out=MEMORY_LANE_2,\n",
    "    memory_out_config=\"offset\",\n",
    "    memory_out_config_offset=1,\n",
    ")"
   ]
  },
  {
   "cell_type": "code",
   "execution_count": null,
   "metadata": {},
   "outputs": [],
   "source": [
    "def bias_kernel(memory_a, memory_b, memory_out):\n",
    "    memory_out = memory_a + memory_b\n",
    "\n",
    "memcpy(flat_image, MEMORY_LANE_0)\n",
    "memcpy(flat_bias, MEMORY_LANE_1)\n",
    "\n",
    "launch_kernel(\n",
    "    kernel=bias_kernel,\n",
    "    num_pe=4,\n",
    "    memory_a=MEMORY_LANE_0,\n",
    "    memory_a_config=\"offset\",\n",
    "    memory_a_config_offset=1,\n",
    "    memory_b=MEMORY_LANE_1,\n",
    "    memory_b_config=\"loop\",\n",
    "    memory_b_config_loop_size=1,\n",
    "    memory_out=MEMORY_LANE_2,\n",
    "    memory_out_config=\"offset\",\n",
    "    memory_out_config_offset=1,\n",
    ")"
   ]
  },
  {
   "cell_type": "code",
   "execution_count": null,
   "metadata": {},
   "outputs": [],
   "source": [
    "def relu_kernel(memory_a, memory_out):\n",
    "    memory_out = max(0, memory_a)\n",
    "\n",
    "memcpy(flat_image, MEMORY_LANE_0)\n",
    "\n",
    "launch_kernel(\n",
    "    kernel=relu_kernel,\n",
    "    num_pe=4,\n",
    "    memory_a=MEMORY_LANE_0,\n",
    "    memory_a_config=\"offset\",\n",
    "    memory_a_config_offset=1,\n",
    "    memory_out=MEMORY_LANE_1,\n",
    "    memory_out_config=\"offset\",\n",
    "    memory_out_config_offset=1,\n",
    ")"
   ]
  },
  {
   "cell_type": "code",
   "execution_count": null,
   "metadata": {},
   "outputs": [],
   "source": [
    "def maxpool_kernel(memory_a, memory_out):\n",
    "    acc = -inf\n",
    "    for i in range(9):\n",
    "        acc = max(acc, memory_a[i])\n",
    "    memory_out = acc\n",
    "\n",
    "memcpy(flat_image, MEMORY_LANE_0)\n",
    "\n",
    "launch_kernel(\n",
    "    kernel=maxpool_kernel,\n",
    "    num_pe=4,\n",
    "    memory_a=MEMORY_LANE_0,\n",
    "    memory_a_config=\"offset\",\n",
    "    memory_a_config_offset=9,\n",
    "    memory_out=MEMORY_LANE_1,\n",
    "    memory_out_config=\"offset\",\n",
    "    memory_out_config_offset=1,\n",
    ")"
   ]
  }
 ],
 "metadata": {
  "kernelspec": {
   "display_name": "venv",
   "language": "python",
   "name": "python3"
  },
  "language_info": {
   "codemirror_mode": {
    "name": "ipython",
    "version": 3
   },
   "file_extension": ".py",
   "mimetype": "text/x-python",
   "name": "python",
   "nbconvert_exporter": "python",
   "pygments_lexer": "ipython3",
   "version": "3.12.3"
  }
 },
 "nbformat": 4,
 "nbformat_minor": 2
}
